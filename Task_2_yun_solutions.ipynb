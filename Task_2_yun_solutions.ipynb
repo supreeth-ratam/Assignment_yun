{
  "nbformat": 4,
  "nbformat_minor": 0,
  "metadata": {
    "colab": {
      "provenance": [],
      "mount_file_id": "1U_gLihtKBqq8uByXtqq7dbphZN-yNkmZ",
      "authorship_tag": "ABX9TyPAGFnPgsIy2l7yzf8G3PBd",
      "include_colab_link": true
    },
    "kernelspec": {
      "name": "python3",
      "display_name": "Python 3"
    },
    "language_info": {
      "name": "python"
    }
  },
  "cells": [
    {
      "cell_type": "markdown",
      "metadata": {
        "id": "view-in-github",
        "colab_type": "text"
      },
      "source": [
        "<a href=\"https://colab.research.google.com/github/supreeth-ratam/Assignment_yun/blob/main/Task_2_yun_solutions.ipynb\" target=\"_parent\"><img src=\"https://colab.research.google.com/assets/colab-badge.svg\" alt=\"Open In Colab\"/></a>"
      ]
    },
    {
      "cell_type": "code",
      "execution_count": null,
      "metadata": {
        "id": "UC_A8y11qo4x"
      },
      "outputs": [],
      "source": [
        "import pandas as pd\n",
        "import numpy as np\n",
        "import re"
      ]
    },
    {
      "cell_type": "code",
      "source": [
        "from PyPDF2 import PdfReader\n",
        "import requests\n",
        "import io\n",
        "from bs4 import BeautifulSoup"
      ],
      "metadata": {
        "id": "UVO5Bpkha6nU"
      },
      "execution_count": 105,
      "outputs": []
    },
    {
      "cell_type": "code",
      "source": [
        "import datefinder"
      ],
      "metadata": {
        "id": "Mo3QNwG3fp-0"
      },
      "execution_count": 110,
      "outputs": []
    },
    {
      "cell_type": "markdown",
      "source": [
        "Read in the Excel file (attached - corpo_announcement) using the pandas' library.\n",
        "- Extract the relevant columns(like, HEADLINE, NEWSSUB, MORE) containing the earnings call dates, URLs, and any other relevant information. (If required info is not found in the text then read the pdf which is present in the \"SOURCE\" column and extract info from that.)\n",
        "- Use regular expressions or other methods to identify the links to the earnings call transcripts and audio files within the URL column.\n",
        "- Output a new Excel file containing the relevant data, along with columns containing the links to the transcripts and audio files.\n",
        "- Note that you may need to use web scraping techniques to actually download the transcripts and audio files once you have identified their URLs. Be sure to properly handle any errors or exceptions that may occur during the data extraction process."
      ],
      "metadata": {
        "id": "qRUsRS2ArFSB"
      }
    },
    {
      "cell_type": "code",
      "source": [
        "df = pd.read_excel('./corpo_announcements.xlsx')"
      ],
      "metadata": {
        "id": "rXPrSoKErOa8"
      },
      "execution_count": 77,
      "outputs": []
    },
    {
      "cell_type": "code",
      "source": [
        "data = df[['ATTACHMENTNAME','HEADLINE','NEWSSUB','MORE','SOURCE']].copy()"
      ],
      "metadata": {
        "id": "2Nzz-EqDr0O3"
      },
      "execution_count": 78,
      "outputs": []
    },
    {
      "cell_type": "code",
      "source": [
        "df.columns"
      ],
      "metadata": {
        "colab": {
          "base_uri": "https://localhost:8080/"
        },
        "id": "kdJvRj6Rx5re",
        "outputId": "90f26e84-cb94-4ff4-d7e5-b771e52d3cb1"
      },
      "execution_count": null,
      "outputs": [
        {
          "output_type": "execute_result",
          "data": {
            "text/plain": [
              "Index(['ATTACHMENTNAME', 'HEADLINE', 'NEWSID', 'NEWSSUB', '_company',\n",
              "       'AGENDA_ID', 'ANNOUNCEMENT_TYPE', 'CATEGORYNAME', 'CRITICALNEWS',\n",
              "       'DT_TM', 'FILESTATUS', 'Fld_Attachsize', 'MORE', 'NEWS_DT', 'NSURL',\n",
              "       'OLD', 'PDFFLAG', 'QUARTER_ID', 'RN', 'SCRIP_CD', 'SLONGNAME',\n",
              "       'TimeDiff', 'TotalPageCnt', 'XML_NAME', 'disseminated_time',\n",
              "       'last_update', 'received_time', 'SOURCE'],\n",
              "      dtype='object')"
            ]
          },
          "metadata": {},
          "execution_count": 5
        }
      ]
    },
    {
      "cell_type": "code",
      "source": [
        "df['PDFFLAG'].value_counts()"
      ],
      "metadata": {
        "colab": {
          "base_uri": "https://localhost:8080/"
        },
        "id": "bi11Do0U0pjc",
        "outputId": "faccb412-904e-49b6-9424-81ff13d78527"
      },
      "execution_count": null,
      "outputs": [
        {
          "output_type": "execute_result",
          "data": {
            "text/plain": [
              "0    29268\n",
              "Name: PDFFLAG, dtype: int64"
            ]
          },
          "metadata": {},
          "execution_count": 6
        }
      ]
    },
    {
      "cell_type": "code",
      "source": [
        "df['CATEGORYNAME'].value_counts()"
      ],
      "metadata": {
        "colab": {
          "base_uri": "https://localhost:8080/"
        },
        "id": "UQQzl6bz20L9",
        "outputId": "eaf12145-54fe-4f58-c72c-d09abd4dafb0"
      },
      "execution_count": null,
      "outputs": [
        {
          "output_type": "execute_result",
          "data": {
            "text/plain": [
              "Company Update            16967\n",
              "Insider Trading / SAST     2178\n",
              "Result                     1504\n",
              "Board Meeting              1378\n",
              "AGM/EGM                     910\n",
              " Corp Action                434\n",
              "Corp. Action                382\n",
              "Corp Action                   1\n",
              "Name: CATEGORYNAME, dtype: int64"
            ]
          },
          "metadata": {},
          "execution_count": 7
        }
      ]
    },
    {
      "cell_type": "markdown",
      "source": [
        "## Extraxting pdf's and mp3's urls"
      ],
      "metadata": {
        "id": "64XJXMirdOt8"
      }
    },
    {
      "cell_type": "code",
      "source": [
        "def extract_pdf_links(text):\n",
        "    pdf_pattern = r\"\\bhttps://.*\\.pdf\\b\"\n",
        "    pdf_links = re.findall(pdf_pattern, text)\n",
        "    if pdf_links:\n",
        "        return pdf_links[0]\n",
        "        print(pdf_links)\n",
        "    else:\n",
        "        return None"
      ],
      "metadata": {
        "id": "Q0uE3ZzuOwEL"
      },
      "execution_count": 81,
      "outputs": []
    },
    {
      "cell_type": "code",
      "source": [
        "def extract_mp3_links(text):\n",
        "    mp3_pattern = r\"\\bhttps://.*\\.mp3\\b\"\n",
        "    mp3_links = re.findall(mp3_pattern, text)\n",
        "    if mp3_links:\n",
        "        return mp3_links\n",
        "        print(mp3_links)[0]\n",
        "    else:\n",
        "        return None"
      ],
      "metadata": {
        "id": "497GRHDxN8OI"
      },
      "execution_count": 82,
      "outputs": []
    },
    {
      "cell_type": "code",
      "source": [
        "def extract_dates(text):\n",
        "  matches = datefinder.find_dates(text)\n",
        "  if matches:\n",
        "    return ','.join([str(match) for match in matches])\n",
        "  else:\n",
        "    return None"
      ],
      "metadata": {
        "id": "PTZev8PGf_zG"
      },
      "execution_count": 119,
      "outputs": []
    },
    {
      "cell_type": "code",
      "source": [
        "def counter(pdfs):\n",
        "  count = 0\n",
        "  for item in pdfs:\n",
        "    if (item != None):\n",
        "      count+=1\n",
        "  return count"
      ],
      "metadata": {
        "id": "3WUQ8kc3XrFT"
      },
      "execution_count": 93,
      "outputs": []
    },
    {
      "cell_type": "code",
      "source": [
        "pdfs = []\n",
        "mp3s = []\n",
        "dates = []\n",
        "\n",
        "for item in data['HEADLINE']:\n",
        "  pdfs.append(extract_pdf_links(str(item)))\n",
        "  mp3s.append(extract_mp3_links(str(item)))\n",
        "  dates.append(extract_dates(str(item)))\n",
        "\n",
        "for idx,item in enumerate(data['NEWSSUB']):\n",
        "  if pdfs[idx] == None: \n",
        "    pdfs[idx] = extract_pdf_links(str(item))\n",
        "  if mp3s[idx] == None: \n",
        "    mp3s[idx] = extract_mp3_links(str(item))\n",
        "  if dates[idx] == None: \n",
        "    dates[idx] = extract_dates(str(item))\n",
        "\n",
        "\n",
        "for idx,item in enumerate(data['MORE']):\n",
        "  if pdfs[idx] == None:\n",
        "    pdfs[idx] = extract_pdf_links(str(item))\n",
        "  if mp3s[idx] == None: \n",
        "    mp3s[idx] = extract_mp3_links(str(item))\n",
        "  if dates[idx] == None: \n",
        "    dates[idx] = extract_dates(str(item))\n",
        "\n",
        "print(counter(pdfs),counter(mp3s),counter(dates)) #Number of pdf's in SubNews + headlines + more"
      ],
      "metadata": {
        "colab": {
          "base_uri": "https://localhost:8080/"
        },
        "id": "O96orYOvQgyj",
        "outputId": "2d42ce11-4b91-4c04-e4d5-358dca3e3f76"
      },
      "execution_count": 120,
      "outputs": [
        {
          "output_type": "stream",
          "name": "stderr",
          "text": [
            "/usr/local/lib/python3.10/dist-packages/dateutil/parser/_parser.py:1207: UnknownTimezoneWarning: tzname M identified but not understood.  Pass `tzinfos` argument in order to correctly return a timezone-aware datetime.  In a future version, this will raise an exception.\n",
            "  warnings.warn(\"tzname {tzname} identified but not understood.  \"\n",
            "/usr/local/lib/python3.10/dist-packages/dateutil/parser/_parser.py:1207: UnknownTimezoneWarning: tzname IST identified but not understood.  Pass `tzinfos` argument in order to correctly return a timezone-aware datetime.  In a future version, this will raise an exception.\n",
            "  warnings.warn(\"tzname {tzname} identified but not understood.  \"\n",
            "/usr/local/lib/python3.10/dist-packages/dateutil/parser/_parser.py:1207: UnknownTimezoneWarning: tzname EST identified but not understood.  Pass `tzinfos` argument in order to correctly return a timezone-aware datetime.  In a future version, this will raise an exception.\n",
            "  warnings.warn(\"tzname {tzname} identified but not understood.  \"\n"
          ]
        },
        {
          "output_type": "stream",
          "name": "stdout",
          "text": [
            "40 42 29268\n"
          ]
        }
      ]
    },
    {
      "cell_type": "code",
      "source": [
        "data['PDF_URLS'] = pd.DataFrame(pdfs)\n",
        "data['AUDIO_URLS'] = pd.DataFrame(mp3s)\n",
        "data['DATES_EXTRACTED'] = pd.DataFrame(dates)"
      ],
      "metadata": {
        "id": "556hCCozf8Ec"
      },
      "execution_count": 123,
      "outputs": []
    },
    {
      "cell_type": "code",
      "source": [
        "data.head()"
      ],
      "metadata": {
        "id": "HbiL-60OpNBc",
        "outputId": "987ffcd0-6622-4948-c106-02b1d70aa47a",
        "colab": {
          "base_uri": "https://localhost:8080/",
          "height": 441
        }
      },
      "execution_count": 124,
      "outputs": [
        {
          "output_type": "execute_result",
          "data": {
            "text/plain": [
              "                             ATTACHMENTNAME  \\\n",
              "0  9982e28d-ec20-4a40-a743-81f2d6d2eb86.pdf   \n",
              "1  f7b9cd02-7cac-4a0d-9989-0e8457929015.pdf   \n",
              "2  6521d50d-c0f4-495d-8c9a-02e72c2dba63.pdf   \n",
              "3  8f71f319-94c8-4c97-965b-e806299e72a7.pdf   \n",
              "4  ea1f74b1-3cb7-4a09-a5cd-7749354013d4.pdf   \n",
              "\n",
              "                                            HEADLINE  \\\n",
              "0           Issue of Duplicate Share Certificates(s)   \n",
              "1  This is to inform you that pursuant to Regulat...   \n",
              "2  Indian Energy Exchange Limited has informed th...   \n",
              "3  Intimation of loss of share certificate and st...   \n",
              "4  Pursuant to Reg 30 read with Schedule III of S...   \n",
              "\n",
              "                                             NEWSSUB  \\\n",
              "0  PUNJAB NATIONAL BANK - 532461 - Compliances-Re...   \n",
              "1  BALKRISHNA INDUSTRIES LTD.-$ - 502355 - Compli...   \n",
              "2  Indian Energy Exchange Ltd - 540750 - Closure ...   \n",
              "3  ELGI EQUIPMENTS LTD. - 522074 - Compliances-Re...   \n",
              "4  Bharat Dynamics Ltd - 541143 - Shareholder Mee...   \n",
              "\n",
              "                                                MORE  \\\n",
              "0                                                NaN   \n",
              "1  This is to inform you that pursuant to Regulat...   \n",
              "2                                                NaN   \n",
              "3                                                NaN   \n",
              "4                                                NaN   \n",
              "\n",
              "                                              SOURCE PDF_URLS AUDIO_URLS  \\\n",
              "0  https://www.bseindia.com/xml-data/corpfiling/A...     None       None   \n",
              "1  https://www.bseindia.com/xml-data/corpfiling/A...     None       None   \n",
              "2  https://www.bseindia.com/xml-data/corpfiling/A...     None       None   \n",
              "3  https://www.bseindia.com/xml-data/corpfiling/A...     None       None   \n",
              "4  https://www.bseindia.com/xml-data/corpfiling/A...     None       None   \n",
              "\n",
              "                                     DATES_EXTRACTED  \n",
              "0                                                     \n",
              "1  2057-05-05 00:00:00,2021-10-28 00:00:00,2022-1...  \n",
              "2                                                     \n",
              "3                                                     \n",
              "4  2023-05-30 00:00:00,2052-05-05 00:00:00,2022-0...  "
            ],
            "text/html": [
              "\n",
              "  <div id=\"df-3e2280e5-0974-4395-84ad-0ea7bb17e6dd\">\n",
              "    <div class=\"colab-df-container\">\n",
              "      <div>\n",
              "<style scoped>\n",
              "    .dataframe tbody tr th:only-of-type {\n",
              "        vertical-align: middle;\n",
              "    }\n",
              "\n",
              "    .dataframe tbody tr th {\n",
              "        vertical-align: top;\n",
              "    }\n",
              "\n",
              "    .dataframe thead th {\n",
              "        text-align: right;\n",
              "    }\n",
              "</style>\n",
              "<table border=\"1\" class=\"dataframe\">\n",
              "  <thead>\n",
              "    <tr style=\"text-align: right;\">\n",
              "      <th></th>\n",
              "      <th>ATTACHMENTNAME</th>\n",
              "      <th>HEADLINE</th>\n",
              "      <th>NEWSSUB</th>\n",
              "      <th>MORE</th>\n",
              "      <th>SOURCE</th>\n",
              "      <th>PDF_URLS</th>\n",
              "      <th>AUDIO_URLS</th>\n",
              "      <th>DATES_EXTRACTED</th>\n",
              "    </tr>\n",
              "  </thead>\n",
              "  <tbody>\n",
              "    <tr>\n",
              "      <th>0</th>\n",
              "      <td>9982e28d-ec20-4a40-a743-81f2d6d2eb86.pdf</td>\n",
              "      <td>Issue of Duplicate Share Certificates(s)</td>\n",
              "      <td>PUNJAB NATIONAL BANK - 532461 - Compliances-Re...</td>\n",
              "      <td>NaN</td>\n",
              "      <td>https://www.bseindia.com/xml-data/corpfiling/A...</td>\n",
              "      <td>None</td>\n",
              "      <td>None</td>\n",
              "      <td></td>\n",
              "    </tr>\n",
              "    <tr>\n",
              "      <th>1</th>\n",
              "      <td>f7b9cd02-7cac-4a0d-9989-0e8457929015.pdf</td>\n",
              "      <td>This is to inform you that pursuant to Regulat...</td>\n",
              "      <td>BALKRISHNA INDUSTRIES LTD.-$ - 502355 - Compli...</td>\n",
              "      <td>This is to inform you that pursuant to Regulat...</td>\n",
              "      <td>https://www.bseindia.com/xml-data/corpfiling/A...</td>\n",
              "      <td>None</td>\n",
              "      <td>None</td>\n",
              "      <td>2057-05-05 00:00:00,2021-10-28 00:00:00,2022-1...</td>\n",
              "    </tr>\n",
              "    <tr>\n",
              "      <th>2</th>\n",
              "      <td>6521d50d-c0f4-495d-8c9a-02e72c2dba63.pdf</td>\n",
              "      <td>Indian Energy Exchange Limited has informed th...</td>\n",
              "      <td>Indian Energy Exchange Ltd - 540750 - Closure ...</td>\n",
              "      <td>NaN</td>\n",
              "      <td>https://www.bseindia.com/xml-data/corpfiling/A...</td>\n",
              "      <td>None</td>\n",
              "      <td>None</td>\n",
              "      <td></td>\n",
              "    </tr>\n",
              "    <tr>\n",
              "      <th>3</th>\n",
              "      <td>8f71f319-94c8-4c97-965b-e806299e72a7.pdf</td>\n",
              "      <td>Intimation of loss of share certificate and st...</td>\n",
              "      <td>ELGI EQUIPMENTS LTD. - 522074 - Compliances-Re...</td>\n",
              "      <td>NaN</td>\n",
              "      <td>https://www.bseindia.com/xml-data/corpfiling/A...</td>\n",
              "      <td>None</td>\n",
              "      <td>None</td>\n",
              "      <td></td>\n",
              "    </tr>\n",
              "    <tr>\n",
              "      <th>4</th>\n",
              "      <td>ea1f74b1-3cb7-4a09-a5cd-7749354013d4.pdf</td>\n",
              "      <td>Pursuant to Reg 30 read with Schedule III of S...</td>\n",
              "      <td>Bharat Dynamics Ltd - 541143 - Shareholder Mee...</td>\n",
              "      <td>NaN</td>\n",
              "      <td>https://www.bseindia.com/xml-data/corpfiling/A...</td>\n",
              "      <td>None</td>\n",
              "      <td>None</td>\n",
              "      <td>2023-05-30 00:00:00,2052-05-05 00:00:00,2022-0...</td>\n",
              "    </tr>\n",
              "  </tbody>\n",
              "</table>\n",
              "</div>\n",
              "      <button class=\"colab-df-convert\" onclick=\"convertToInteractive('df-3e2280e5-0974-4395-84ad-0ea7bb17e6dd')\"\n",
              "              title=\"Convert this dataframe to an interactive table.\"\n",
              "              style=\"display:none;\">\n",
              "        \n",
              "  <svg xmlns=\"http://www.w3.org/2000/svg\" height=\"24px\"viewBox=\"0 0 24 24\"\n",
              "       width=\"24px\">\n",
              "    <path d=\"M0 0h24v24H0V0z\" fill=\"none\"/>\n",
              "    <path d=\"M18.56 5.44l.94 2.06.94-2.06 2.06-.94-2.06-.94-.94-2.06-.94 2.06-2.06.94zm-11 1L8.5 8.5l.94-2.06 2.06-.94-2.06-.94L8.5 2.5l-.94 2.06-2.06.94zm10 10l.94 2.06.94-2.06 2.06-.94-2.06-.94-.94-2.06-.94 2.06-2.06.94z\"/><path d=\"M17.41 7.96l-1.37-1.37c-.4-.4-.92-.59-1.43-.59-.52 0-1.04.2-1.43.59L10.3 9.45l-7.72 7.72c-.78.78-.78 2.05 0 2.83L4 21.41c.39.39.9.59 1.41.59.51 0 1.02-.2 1.41-.59l7.78-7.78 2.81-2.81c.8-.78.8-2.07 0-2.86zM5.41 20L4 18.59l7.72-7.72 1.47 1.35L5.41 20z\"/>\n",
              "  </svg>\n",
              "      </button>\n",
              "      \n",
              "  <style>\n",
              "    .colab-df-container {\n",
              "      display:flex;\n",
              "      flex-wrap:wrap;\n",
              "      gap: 12px;\n",
              "    }\n",
              "\n",
              "    .colab-df-convert {\n",
              "      background-color: #E8F0FE;\n",
              "      border: none;\n",
              "      border-radius: 50%;\n",
              "      cursor: pointer;\n",
              "      display: none;\n",
              "      fill: #1967D2;\n",
              "      height: 32px;\n",
              "      padding: 0 0 0 0;\n",
              "      width: 32px;\n",
              "    }\n",
              "\n",
              "    .colab-df-convert:hover {\n",
              "      background-color: #E2EBFA;\n",
              "      box-shadow: 0px 1px 2px rgba(60, 64, 67, 0.3), 0px 1px 3px 1px rgba(60, 64, 67, 0.15);\n",
              "      fill: #174EA6;\n",
              "    }\n",
              "\n",
              "    [theme=dark] .colab-df-convert {\n",
              "      background-color: #3B4455;\n",
              "      fill: #D2E3FC;\n",
              "    }\n",
              "\n",
              "    [theme=dark] .colab-df-convert:hover {\n",
              "      background-color: #434B5C;\n",
              "      box-shadow: 0px 1px 3px 1px rgba(0, 0, 0, 0.15);\n",
              "      filter: drop-shadow(0px 1px 2px rgba(0, 0, 0, 0.3));\n",
              "      fill: #FFFFFF;\n",
              "    }\n",
              "  </style>\n",
              "\n",
              "      <script>\n",
              "        const buttonEl =\n",
              "          document.querySelector('#df-3e2280e5-0974-4395-84ad-0ea7bb17e6dd button.colab-df-convert');\n",
              "        buttonEl.style.display =\n",
              "          google.colab.kernel.accessAllowed ? 'block' : 'none';\n",
              "\n",
              "        async function convertToInteractive(key) {\n",
              "          const element = document.querySelector('#df-3e2280e5-0974-4395-84ad-0ea7bb17e6dd');\n",
              "          const dataTable =\n",
              "            await google.colab.kernel.invokeFunction('convertToInteractive',\n",
              "                                                     [key], {});\n",
              "          if (!dataTable) return;\n",
              "\n",
              "          const docLinkHtml = 'Like what you see? Visit the ' +\n",
              "            '<a target=\"_blank\" href=https://colab.research.google.com/notebooks/data_table.ipynb>data table notebook</a>'\n",
              "            + ' to learn more about interactive tables.';\n",
              "          element.innerHTML = '';\n",
              "          dataTable['output_type'] = 'display_data';\n",
              "          await google.colab.output.renderOutput(dataTable, element);\n",
              "          const docLink = document.createElement('div');\n",
              "          docLink.innerHTML = docLinkHtml;\n",
              "          element.appendChild(docLink);\n",
              "        }\n",
              "      </script>\n",
              "    </div>\n",
              "  </div>\n",
              "  "
            ]
          },
          "metadata": {},
          "execution_count": 124
        }
      ]
    },
    {
      "cell_type": "markdown",
      "source": [
        "## Adding data into a new excel sheet called output.xlsx"
      ],
      "metadata": {
        "id": "CrqSC7Dgq0I8"
      }
    },
    {
      "cell_type": "code",
      "source": [
        "data.to_excel('output.xlsx')"
      ],
      "metadata": {
        "id": "UG2f2P--q6yD"
      },
      "execution_count": 126,
      "outputs": []
    },
    {
      "cell_type": "markdown",
      "source": [
        "## Extracting data form PDF's"
      ],
      "metadata": {
        "id": "pUd3mRNAqVpc"
      }
    },
    {
      "cell_type": "code",
      "source": [
        "def info(pdf_path):\n",
        "\n",
        "\t# used get method to get the pdf file\n",
        "\tresponse = requests.get(pdf_path)\n",
        "\n",
        "\t# response.content generate binary code for\n",
        "\t# string function\n",
        "\twith io.BytesIO(response.content) as f:\n",
        "\n",
        "\t\t# initialized the pdf\n",
        "\t\tpdf = PdfReader(f)\n",
        "\n",
        "\t\t# all info about pdf\n",
        "\t\tinformation = pdf.getDocumentInfo()\n",
        "\t\tnumber_of_pages = pdf.getNumPages()\n",
        "\n",
        "\ttxt = f\"\"\"\n",
        "\tInformation about {pdf_path}:\n",
        "\t\n",
        "\tAuthor: {information.author}\n",
        "\tCreator: {information.creator}\n",
        "\tProducer: {information.producer}\n",
        "\tSubject: {information.subject}\n",
        "\tTitle: {information.title}\n",
        "\tNumber of pages: {number_of_pages}\n",
        "\t\"\"\"\n",
        "\tprint(txt)\n",
        "\t\n",
        "\treturn information\n"
      ],
      "metadata": {
        "id": "B8YWbPD4XaZv"
      },
      "execution_count": 106,
      "outputs": []
    },
    {
      "cell_type": "code",
      "source": [
        "text = info('https://www.bseindia.com/xml-data/corpfiling/AttachLive/f7b9cd02-7cac-4a0d-9989-0e8457929015.pdf')"
      ],
      "metadata": {
        "colab": {
          "base_uri": "https://localhost:8080/",
          "height": 311
        },
        "id": "e4KZ9qYecDnB",
        "outputId": "44278d0f-be25-464a-8046-b63c6533d959"
      },
      "execution_count": 125,
      "outputs": [
        {
          "output_type": "error",
          "ename": "PdfReadError",
          "evalue": "ignored",
          "traceback": [
            "\u001b[0;31m---------------------------------------------------------------------------\u001b[0m",
            "\u001b[0;31mPdfReadError\u001b[0m                              Traceback (most recent call last)",
            "\u001b[0;32m<ipython-input-125-cf4a1ef7ddc0>\u001b[0m in \u001b[0;36m<cell line: 1>\u001b[0;34m()\u001b[0m\n\u001b[0;32m----> 1\u001b[0;31m \u001b[0mtext\u001b[0m \u001b[0;34m=\u001b[0m \u001b[0minfo\u001b[0m\u001b[0;34m(\u001b[0m\u001b[0;34m'https://www.bseindia.com/xml-data/corpfiling/AttachLive/f7b9cd02-7cac-4a0d-9989-0e8457929015.pdf'\u001b[0m\u001b[0;34m)\u001b[0m\u001b[0;34m\u001b[0m\u001b[0;34m\u001b[0m\u001b[0m\n\u001b[0m",
            "\u001b[0;32m<ipython-input-106-893eeaf1c5b7>\u001b[0m in \u001b[0;36minfo\u001b[0;34m(pdf_path)\u001b[0m\n\u001b[1;32m      9\u001b[0m \u001b[0;34m\u001b[0m\u001b[0m\n\u001b[1;32m     10\u001b[0m                 \u001b[0;31m# initialized the pdf\u001b[0m\u001b[0;34m\u001b[0m\u001b[0;34m\u001b[0m\u001b[0m\n\u001b[0;32m---> 11\u001b[0;31m                 \u001b[0mpdf\u001b[0m \u001b[0;34m=\u001b[0m \u001b[0mPdfReader\u001b[0m\u001b[0;34m(\u001b[0m\u001b[0mf\u001b[0m\u001b[0;34m)\u001b[0m\u001b[0;34m\u001b[0m\u001b[0;34m\u001b[0m\u001b[0m\n\u001b[0m\u001b[1;32m     12\u001b[0m \u001b[0;34m\u001b[0m\u001b[0m\n\u001b[1;32m     13\u001b[0m                 \u001b[0;31m# all info about pdf\u001b[0m\u001b[0;34m\u001b[0m\u001b[0;34m\u001b[0m\u001b[0m\n",
            "\u001b[0;32m/usr/local/lib/python3.10/dist-packages/PyPDF2/_reader.py\u001b[0m in \u001b[0;36m__init__\u001b[0;34m(self, stream, strict, password)\u001b[0m\n\u001b[1;32m    317\u001b[0m             \u001b[0;32mwith\u001b[0m \u001b[0mopen\u001b[0m\u001b[0;34m(\u001b[0m\u001b[0mstream\u001b[0m\u001b[0;34m,\u001b[0m \u001b[0;34m\"rb\"\u001b[0m\u001b[0;34m)\u001b[0m \u001b[0;32mas\u001b[0m \u001b[0mfh\u001b[0m\u001b[0;34m:\u001b[0m\u001b[0;34m\u001b[0m\u001b[0;34m\u001b[0m\u001b[0m\n\u001b[1;32m    318\u001b[0m                 \u001b[0mstream\u001b[0m \u001b[0;34m=\u001b[0m \u001b[0mBytesIO\u001b[0m\u001b[0;34m(\u001b[0m\u001b[0mfh\u001b[0m\u001b[0;34m.\u001b[0m\u001b[0mread\u001b[0m\u001b[0;34m(\u001b[0m\u001b[0;34m)\u001b[0m\u001b[0;34m)\u001b[0m\u001b[0;34m\u001b[0m\u001b[0;34m\u001b[0m\u001b[0m\n\u001b[0;32m--> 319\u001b[0;31m         \u001b[0mself\u001b[0m\u001b[0;34m.\u001b[0m\u001b[0mread\u001b[0m\u001b[0;34m(\u001b[0m\u001b[0mstream\u001b[0m\u001b[0;34m)\u001b[0m\u001b[0;34m\u001b[0m\u001b[0;34m\u001b[0m\u001b[0m\n\u001b[0m\u001b[1;32m    320\u001b[0m         \u001b[0mself\u001b[0m\u001b[0;34m.\u001b[0m\u001b[0mstream\u001b[0m \u001b[0;34m=\u001b[0m \u001b[0mstream\u001b[0m\u001b[0;34m\u001b[0m\u001b[0;34m\u001b[0m\u001b[0m\n\u001b[1;32m    321\u001b[0m \u001b[0;34m\u001b[0m\u001b[0m\n",
            "\u001b[0;32m/usr/local/lib/python3.10/dist-packages/PyPDF2/_reader.py\u001b[0m in \u001b[0;36mread\u001b[0;34m(self, stream)\u001b[0m\n\u001b[1;32m   1413\u001b[0m     \u001b[0;32mdef\u001b[0m \u001b[0mread\u001b[0m\u001b[0;34m(\u001b[0m\u001b[0mself\u001b[0m\u001b[0;34m,\u001b[0m \u001b[0mstream\u001b[0m\u001b[0;34m:\u001b[0m \u001b[0mStreamType\u001b[0m\u001b[0;34m)\u001b[0m \u001b[0;34m->\u001b[0m \u001b[0;32mNone\u001b[0m\u001b[0;34m:\u001b[0m\u001b[0;34m\u001b[0m\u001b[0;34m\u001b[0m\u001b[0m\n\u001b[1;32m   1414\u001b[0m         \u001b[0mself\u001b[0m\u001b[0;34m.\u001b[0m\u001b[0m_basic_validation\u001b[0m\u001b[0;34m(\u001b[0m\u001b[0mstream\u001b[0m\u001b[0;34m)\u001b[0m\u001b[0;34m\u001b[0m\u001b[0;34m\u001b[0m\u001b[0m\n\u001b[0;32m-> 1415\u001b[0;31m         \u001b[0mself\u001b[0m\u001b[0;34m.\u001b[0m\u001b[0m_find_eof_marker\u001b[0m\u001b[0;34m(\u001b[0m\u001b[0mstream\u001b[0m\u001b[0;34m)\u001b[0m\u001b[0;34m\u001b[0m\u001b[0;34m\u001b[0m\u001b[0m\n\u001b[0m\u001b[1;32m   1416\u001b[0m         \u001b[0mstartxref\u001b[0m \u001b[0;34m=\u001b[0m \u001b[0mself\u001b[0m\u001b[0;34m.\u001b[0m\u001b[0m_find_startxref_pos\u001b[0m\u001b[0;34m(\u001b[0m\u001b[0mstream\u001b[0m\u001b[0;34m)\u001b[0m\u001b[0;34m\u001b[0m\u001b[0;34m\u001b[0m\u001b[0m\n\u001b[1;32m   1417\u001b[0m \u001b[0;34m\u001b[0m\u001b[0m\n",
            "\u001b[0;32m/usr/local/lib/python3.10/dist-packages/PyPDF2/_reader.py\u001b[0m in \u001b[0;36m_find_eof_marker\u001b[0;34m(self, stream)\u001b[0m\n\u001b[1;32m   1469\u001b[0m         \u001b[0;32mwhile\u001b[0m \u001b[0mline\u001b[0m\u001b[0;34m[\u001b[0m\u001b[0;34m:\u001b[0m\u001b[0;36m5\u001b[0m\u001b[0;34m]\u001b[0m \u001b[0;34m!=\u001b[0m \u001b[0;34mb\"%%EOF\"\u001b[0m\u001b[0;34m:\u001b[0m\u001b[0;34m\u001b[0m\u001b[0;34m\u001b[0m\u001b[0m\n\u001b[1;32m   1470\u001b[0m             \u001b[0;32mif\u001b[0m \u001b[0mstream\u001b[0m\u001b[0;34m.\u001b[0m\u001b[0mtell\u001b[0m\u001b[0;34m(\u001b[0m\u001b[0;34m)\u001b[0m \u001b[0;34m<\u001b[0m \u001b[0mlast_mb\u001b[0m\u001b[0;34m:\u001b[0m\u001b[0;34m\u001b[0m\u001b[0;34m\u001b[0m\u001b[0m\n\u001b[0;32m-> 1471\u001b[0;31m                 \u001b[0;32mraise\u001b[0m \u001b[0mPdfReadError\u001b[0m\u001b[0;34m(\u001b[0m\u001b[0;34m\"EOF marker not found\"\u001b[0m\u001b[0;34m)\u001b[0m\u001b[0;34m\u001b[0m\u001b[0;34m\u001b[0m\u001b[0m\n\u001b[0m\u001b[1;32m   1472\u001b[0m             \u001b[0mline\u001b[0m \u001b[0;34m=\u001b[0m \u001b[0mread_previous_line\u001b[0m\u001b[0;34m(\u001b[0m\u001b[0mstream\u001b[0m\u001b[0;34m)\u001b[0m\u001b[0;34m\u001b[0m\u001b[0;34m\u001b[0m\u001b[0m\n\u001b[1;32m   1473\u001b[0m \u001b[0;34m\u001b[0m\u001b[0m\n",
            "\u001b[0;31mPdfReadError\u001b[0m: EOF marker not found"
          ]
        }
      ]
    },
    {
      "cell_type": "code",
      "source": [],
      "metadata": {
        "id": "7bEsp7lacTDC"
      },
      "execution_count": null,
      "outputs": []
    }
  ]
}