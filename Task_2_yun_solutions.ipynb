{
  "nbformat": 4,
  "nbformat_minor": 0,
  "metadata": {
    "colab": {
      "provenance": [],
      "mount_file_id": "1U_gLihtKBqq8uByXtqq7dbphZN-yNkmZ",
      "authorship_tag": "ABX9TyPH6sheHrOPNjQ/1Fb2QU5d",
      "include_colab_link": true
    },
    "kernelspec": {
      "name": "python3",
      "display_name": "Python 3"
    },
    "language_info": {
      "name": "python"
    }
  },
  "cells": [
    {
      "cell_type": "markdown",
      "metadata": {
        "id": "view-in-github",
        "colab_type": "text"
      },
      "source": [
        "<a href=\"https://colab.research.google.com/github/supreeth-ratam/Assignment_yun/blob/main/Task_2_yun_solutions.ipynb\" target=\"_parent\"><img src=\"https://colab.research.google.com/assets/colab-badge.svg\" alt=\"Open In Colab\"/></a>"
      ]
    },
    {
      "cell_type": "code",
      "execution_count": null,
      "metadata": {
        "id": "UC_A8y11qo4x"
      },
      "outputs": [],
      "source": [
        "import pandas as pd\n",
        "import numpy as np\n",
        "import re"
      ]
    },
    {
      "cell_type": "markdown",
      "source": [
        "Read in the Excel file (attached - corpo_announcement) using the pandas' library.\n",
        "- Extract the relevant columns(like, HEADLINE, NEWSSUB, MORE) containing the earnings call dates, URLs, and any other relevant information. (If required info is not found in the text then read the pdf which is present in the \"SOURCE\" column and extract info from that.)\n",
        "- Use regular expressions or other methods to identify the links to the earnings call transcripts and audio files within the URL column.\n",
        "- Output a new Excel file containing the relevant data, along with columns containing the links to the transcripts and audio files.\n",
        "- Note that you may need to use web scraping techniques to actually download the transcripts and audio files once you have identified their URLs. Be sure to properly handle any errors or exceptions that may occur during the data extraction process."
      ],
      "metadata": {
        "id": "qRUsRS2ArFSB"
      }
    },
    {
      "cell_type": "code",
      "source": [
        "df = pd.read_excel('./corpo_announcements.xlsx')"
      ],
      "metadata": {
        "id": "rXPrSoKErOa8"
      },
      "execution_count": 77,
      "outputs": []
    },
    {
      "cell_type": "code",
      "source": [
        "data = df[['ATTACHMENTNAME','HEADLINE','NEWSSUB','MORE','SOURCE']].copy()"
      ],
      "metadata": {
        "id": "2Nzz-EqDr0O3"
      },
      "execution_count": 78,
      "outputs": []
    },
    {
      "cell_type": "code",
      "source": [
        "df.columns"
      ],
      "metadata": {
        "colab": {
          "base_uri": "https://localhost:8080/"
        },
        "id": "kdJvRj6Rx5re",
        "outputId": "90f26e84-cb94-4ff4-d7e5-b771e52d3cb1"
      },
      "execution_count": null,
      "outputs": [
        {
          "output_type": "execute_result",
          "data": {
            "text/plain": [
              "Index(['ATTACHMENTNAME', 'HEADLINE', 'NEWSID', 'NEWSSUB', '_company',\n",
              "       'AGENDA_ID', 'ANNOUNCEMENT_TYPE', 'CATEGORYNAME', 'CRITICALNEWS',\n",
              "       'DT_TM', 'FILESTATUS', 'Fld_Attachsize', 'MORE', 'NEWS_DT', 'NSURL',\n",
              "       'OLD', 'PDFFLAG', 'QUARTER_ID', 'RN', 'SCRIP_CD', 'SLONGNAME',\n",
              "       'TimeDiff', 'TotalPageCnt', 'XML_NAME', 'disseminated_time',\n",
              "       'last_update', 'received_time', 'SOURCE'],\n",
              "      dtype='object')"
            ]
          },
          "metadata": {},
          "execution_count": 5
        }
      ]
    },
    {
      "cell_type": "code",
      "source": [
        "df['PDFFLAG'].value_counts()"
      ],
      "metadata": {
        "colab": {
          "base_uri": "https://localhost:8080/"
        },
        "id": "bi11Do0U0pjc",
        "outputId": "faccb412-904e-49b6-9424-81ff13d78527"
      },
      "execution_count": null,
      "outputs": [
        {
          "output_type": "execute_result",
          "data": {
            "text/plain": [
              "0    29268\n",
              "Name: PDFFLAG, dtype: int64"
            ]
          },
          "metadata": {},
          "execution_count": 6
        }
      ]
    },
    {
      "cell_type": "code",
      "source": [
        "df['CATEGORYNAME'].value_counts()"
      ],
      "metadata": {
        "colab": {
          "base_uri": "https://localhost:8080/"
        },
        "id": "UQQzl6bz20L9",
        "outputId": "eaf12145-54fe-4f58-c72c-d09abd4dafb0"
      },
      "execution_count": null,
      "outputs": [
        {
          "output_type": "execute_result",
          "data": {
            "text/plain": [
              "Company Update            16967\n",
              "Insider Trading / SAST     2178\n",
              "Result                     1504\n",
              "Board Meeting              1378\n",
              "AGM/EGM                     910\n",
              " Corp Action                434\n",
              "Corp. Action                382\n",
              "Corp Action                   1\n",
              "Name: CATEGORYNAME, dtype: int64"
            ]
          },
          "metadata": {},
          "execution_count": 7
        }
      ]
    },
    {
      "cell_type": "code",
      "source": [
        "def extract_pdf_links(text):\n",
        "    pdf_pattern = r\"\\bhttps://.*\\.pdf\\b\"\n",
        "    pdf_links = re.findall(pdf_pattern, text)\n",
        "    if pdf_links:\n",
        "        return pdf_links[0]\n",
        "        print(pdf_links)\n",
        "    else:\n",
        "        return None"
      ],
      "metadata": {
        "id": "Q0uE3ZzuOwEL"
      },
      "execution_count": 81,
      "outputs": []
    },
    {
      "cell_type": "code",
      "source": [
        "def extract_mp3_links(text):\n",
        "    mp3_pattern = r\"\\bhttps://.*\\.mp3\\b\"\n",
        "    mp3_links = re.findall(mp3_pattern, text)\n",
        "    if mp3_links:\n",
        "        return mp3_links\n",
        "        print(mp3_links)[0]\n",
        "    else:\n",
        "        return None"
      ],
      "metadata": {
        "id": "497GRHDxN8OI"
      },
      "execution_count": 82,
      "outputs": []
    },
    {
      "cell_type": "code",
      "source": [
        "def counter(pdfs):\n",
        "  count = 0\n",
        "  for item in pdfs:\n",
        "    if (item != None):\n",
        "      count+=1\n",
        "  return count"
      ],
      "metadata": {
        "id": "3WUQ8kc3XrFT"
      },
      "execution_count": 93,
      "outputs": []
    },
    {
      "cell_type": "code",
      "source": [
        "pdfs = []\n",
        "for item in data['HEADLINE']:\n",
        "  pdfs.append(extract_pdf_links(str(item)))\n",
        "print(counter(pdfs))\n",
        "for idx,item in enumerate(data['NEWSSUB']):\n",
        "  if pdfs[idx] == None:\n",
        "    pdfs[idx] = extract_pdf_links(str(item))\n",
        "print(counter(pdfs))\n",
        "for idx,item in enumerate(data['MORE']):\n",
        "  if pdfs[idx] == None:\n",
        "    pdfs[idx] = extract_pdf_links(str(item))\n",
        "print(counter(pdfs))"
      ],
      "metadata": {
        "colab": {
          "base_uri": "https://localhost:8080/"
        },
        "id": "O96orYOvQgyj",
        "outputId": "52c6c7e4-daa0-4e1d-84a9-f491eabef79f"
      },
      "execution_count": 94,
      "outputs": [
        {
          "output_type": "stream",
          "name": "stdout",
          "text": [
            "23\n",
            "23\n",
            "40\n"
          ]
        }
      ]
    },
    {
      "cell_type": "code",
      "source": [
        "pdf_df = pd.DataFrame(pdfs)"
      ],
      "metadata": {
        "id": "I1UGhfImR7BJ"
      },
      "execution_count": 90,
      "outputs": []
    },
    {
      "cell_type": "code",
      "source": [
        "pdf_df.isnull().value_counts()"
      ],
      "metadata": {
        "colab": {
          "base_uri": "https://localhost:8080/"
        },
        "id": "Brg8F8VEVQdc",
        "outputId": "de9906a5-ac9d-4865-c2e7-823c48633886"
      },
      "execution_count": 92,
      "outputs": [
        {
          "output_type": "execute_result",
          "data": {
            "text/plain": [
              "True     29228\n",
              "False       40\n",
              "dtype: int64"
            ]
          },
          "metadata": {},
          "execution_count": 92
        }
      ]
    },
    {
      "cell_type": "code",
      "source": [],
      "metadata": {
        "id": "B8YWbPD4XaZv"
      },
      "execution_count": null,
      "outputs": []
    }
  ]
}