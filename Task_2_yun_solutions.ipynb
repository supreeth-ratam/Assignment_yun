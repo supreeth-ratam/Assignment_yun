{
  "nbformat": 4,
  "nbformat_minor": 0,
  "metadata": {
    "colab": {
      "provenance": [],
      "mount_file_id": "1U_gLihtKBqq8uByXtqq7dbphZN-yNkmZ",
      "authorship_tag": "ABX9TyMrq8y7VOa9qeLQ2KY2oNvP",
      "include_colab_link": true
    },
    "kernelspec": {
      "name": "python3",
      "display_name": "Python 3"
    },
    "language_info": {
      "name": "python"
    }
  },
  "cells": [
    {
      "cell_type": "markdown",
      "metadata": {
        "id": "view-in-github",
        "colab_type": "text"
      },
      "source": [
        "<a href=\"https://colab.research.google.com/github/supreeth-ratam/Assignment_yun/blob/main/Task_2_yun_solutions.ipynb\" target=\"_parent\"><img src=\"https://colab.research.google.com/assets/colab-badge.svg\" alt=\"Open In Colab\"/></a>"
      ]
    },
    {
      "cell_type": "code",
      "execution_count": null,
      "metadata": {
        "id": "UC_A8y11qo4x"
      },
      "outputs": [],
      "source": [
        "import pandas as pd\n",
        "import numpy as np\n",
        "import re"
      ]
    },
    {
      "cell_type": "markdown",
      "source": [
        "Read in the Excel file (attached - corpo_announcement) using the pandas' library.\n",
        "- Extract the relevant columns(like, HEADLINE, NEWSSUB, MORE) containing the earnings call dates, URLs, and any other relevant information. (If required info is not found in the text then read the pdf which is present in the \"SOURCE\" column and extract info from that.)\n",
        "- Use regular expressions or other methods to identify the links to the earnings call transcripts and audio files within the URL column.\n",
        "- Output a new Excel file containing the relevant data, along with columns containing the links to the transcripts and audio files.\n",
        "- Note that you may need to use web scraping techniques to actually download the transcripts and audio files once you have identified their URLs. Be sure to properly handle any errors or exceptions that may occur during the data extraction process."
      ],
      "metadata": {
        "id": "qRUsRS2ArFSB"
      }
    },
    {
      "cell_type": "code",
      "source": [
        "df = pd.read_excel('./corpo_announcements.xlsx')"
      ],
      "metadata": {
        "id": "rXPrSoKErOa8"
      },
      "execution_count": null,
      "outputs": []
    },
    {
      "cell_type": "code",
      "source": [
        "data = df[['ATTACHMENTNAME','HEADLINE','NEWSSUB','MORE','SOURCE']]"
      ],
      "metadata": {
        "id": "2Nzz-EqDr0O3"
      },
      "execution_count": null,
      "outputs": []
    },
    {
      "cell_type": "code",
      "source": [
        "df.columns"
      ],
      "metadata": {
        "colab": {
          "base_uri": "https://localhost:8080/"
        },
        "id": "kdJvRj6Rx5re",
        "outputId": "90f26e84-cb94-4ff4-d7e5-b771e52d3cb1"
      },
      "execution_count": null,
      "outputs": [
        {
          "output_type": "execute_result",
          "data": {
            "text/plain": [
              "Index(['ATTACHMENTNAME', 'HEADLINE', 'NEWSID', 'NEWSSUB', '_company',\n",
              "       'AGENDA_ID', 'ANNOUNCEMENT_TYPE', 'CATEGORYNAME', 'CRITICALNEWS',\n",
              "       'DT_TM', 'FILESTATUS', 'Fld_Attachsize', 'MORE', 'NEWS_DT', 'NSURL',\n",
              "       'OLD', 'PDFFLAG', 'QUARTER_ID', 'RN', 'SCRIP_CD', 'SLONGNAME',\n",
              "       'TimeDiff', 'TotalPageCnt', 'XML_NAME', 'disseminated_time',\n",
              "       'last_update', 'received_time', 'SOURCE'],\n",
              "      dtype='object')"
            ]
          },
          "metadata": {},
          "execution_count": 5
        }
      ]
    },
    {
      "cell_type": "code",
      "source": [
        "df['PDFFLAG'].value_counts()"
      ],
      "metadata": {
        "colab": {
          "base_uri": "https://localhost:8080/"
        },
        "id": "bi11Do0U0pjc",
        "outputId": "faccb412-904e-49b6-9424-81ff13d78527"
      },
      "execution_count": null,
      "outputs": [
        {
          "output_type": "execute_result",
          "data": {
            "text/plain": [
              "0    29268\n",
              "Name: PDFFLAG, dtype: int64"
            ]
          },
          "metadata": {},
          "execution_count": 6
        }
      ]
    },
    {
      "cell_type": "code",
      "source": [
        "df['CATEGORYNAME'].value_counts()"
      ],
      "metadata": {
        "colab": {
          "base_uri": "https://localhost:8080/"
        },
        "id": "UQQzl6bz20L9",
        "outputId": "eaf12145-54fe-4f58-c72c-d09abd4dafb0"
      },
      "execution_count": null,
      "outputs": [
        {
          "output_type": "execute_result",
          "data": {
            "text/plain": [
              "Company Update            16967\n",
              "Insider Trading / SAST     2178\n",
              "Result                     1504\n",
              "Board Meeting              1378\n",
              "AGM/EGM                     910\n",
              " Corp Action                434\n",
              "Corp. Action                382\n",
              "Corp Action                   1\n",
              "Name: CATEGORYNAME, dtype: int64"
            ]
          },
          "metadata": {},
          "execution_count": 7
        }
      ]
    },
    {
      "cell_type": "code",
      "source": [
        "from sqlalchemy.sql.elements import Null\n",
        "pdf_regex_pattern = 'r\"\\bhttps://.*\\.pdf\\b\" ' # To find pdf files\n",
        "mp3_regex_pattern = 'r\"\\bhttps://.*\\.mp3\\b\"' # To find audio files\n",
        "\n",
        "transcript_links = []\n",
        "audio_links = []\n",
        "\n",
        "for article in df['NSURL']:\n",
        "  is_match_pdf = re.search(pdf_regex_pattern,str(article))\n",
        "  # print(is_match_pdf)\n",
        "  if is_match_pdf:\n",
        "    transcript_links.append(is_match_pdf)\n",
        "    print('Match Found pdf')\n",
        "  else:\n",
        "    transcript_links.append(0)\n",
        "  \n",
        "  is_match_audio = re.search(mp3_regex_pattern,str(article))\n",
        "  if is_match_audio:\n",
        "    # print(is_match_audio)\n",
        "    transcript_links.append(is_match_audio)\n",
        "    print('Match Found Mp3')\n",
        "  else:\n",
        "    transcript_links.append(0)\n",
        "\n"
      ],
      "metadata": {
        "id": "Q0uE3ZzuOwEL"
      },
      "execution_count": 23,
      "outputs": []
    },
    {
      "cell_type": "code",
      "source": [],
      "metadata": {
        "colab": {
          "base_uri": "https://localhost:8080/"
        },
        "id": "lE5iT8a4aIQq",
        "outputId": "03a5c7f5-3208-418f-aaa1-b5c4c97c3161"
      },
      "execution_count": null,
      "outputs": [
        {
          "output_type": "stream",
          "name": "stdout",
          "text": [
            "<class 'int'>\n"
          ]
        }
      ]
    },
    {
      "cell_type": "code",
      "source": [],
      "metadata": {
        "id": "XerzfPuRb4ni"
      },
      "execution_count": null,
      "outputs": []
    }
  ]
}